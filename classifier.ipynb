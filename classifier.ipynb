{
 "cells": [
  {
   "cell_type": "code",
   "execution_count": 1,
   "metadata": {},
   "outputs": [
    {
     "name": "stderr",
     "output_type": "stream",
     "text": [
      "Using TensorFlow backend.\n"
     ]
    }
   ],
   "source": [
    "from keras import models, layers, losses, optimizers, metrics\n",
    "from keras.preprocessing.image import ImageDataGenerator"
   ]
  },
  {
   "cell_type": "code",
   "execution_count": 3,
   "metadata": {},
   "outputs": [
    {
     "name": "stdout",
     "output_type": "stream",
     "text": [
      "Found 12000 images belonging to 50 classes.\n",
      "Found 3000 images belonging to 50 classes.\n"
     ]
    }
   ],
   "source": [
    "train_dir = '/media/shuvendu/Projects/Datasets/bangla/train'\n",
    "test_dir = '/media/shuvendu/Projects/Datasets/bangla/test'\n",
    "\n",
    "train_datagen = ImageDataGenerator(rescale=1./255)\n",
    "test_datagen = ImageDataGenerator(rescale=1./255)\n",
    "\n",
    "train_generator = train_datagen.flow_from_directory(\n",
    "    train_dir, \n",
    "    target_size=(64, 64), \n",
    "    batch_size=32\n",
    ")\n",
    "\n",
    "test_generator = test_datagen.flow_from_directory(\n",
    "    test_dir, \n",
    "    target_size=(64, 64), \n",
    "    batch_size=32\n",
    ")"
   ]
  },
  {
   "cell_type": "code",
   "execution_count": 4,
   "metadata": {},
   "outputs": [
    {
     "name": "stdout",
     "output_type": "stream",
     "text": [
      "(32, 64, 64, 3)\n",
      "(32, 50)\n"
     ]
    }
   ],
   "source": [
    "for data_batch, label_batch in train_generator:\n",
    "    print(data_batch.shape)\n",
    "    print(label_batch.shape)\n",
    "    break"
   ]
  },
  {
   "cell_type": "markdown",
   "metadata": {},
   "source": [
    "# Deep neural network"
   ]
  },
  {
   "cell_type": "code",
   "execution_count": 19,
   "metadata": {},
   "outputs": [
    {
     "name": "stdout",
     "output_type": "stream",
     "text": [
      "_________________________________________________________________\n",
      "Layer (type)                 Output Shape              Param #   \n",
      "=================================================================\n",
      "flatten_8 (Flatten)          (None, 12288)             0         \n",
      "_________________________________________________________________\n",
      "dense_9 (Dense)              (None, 1024)              12583936  \n",
      "_________________________________________________________________\n",
      "dense_10 (Dense)             (None, 50)                51250     \n",
      "=================================================================\n",
      "Total params: 12,635,186\n",
      "Trainable params: 12,635,186\n",
      "Non-trainable params: 0\n",
      "_________________________________________________________________\n"
     ]
    }
   ],
   "source": [
    "model = models.Sequential()\n",
    "\n",
    "model.add(layers.Flatten(input_shape=(64, 64, 3)))\n",
    "model.add(layers.Dense(1024, activation='relu'))\n",
    "model.add(layers.Dense(50, activation='softmax'))\n",
    "\n",
    "model.summary()"
   ]
  },
  {
   "cell_type": "code",
   "execution_count": 20,
   "metadata": {},
   "outputs": [
    {
     "name": "stdout",
     "output_type": "stream",
     "text": [
      "Epoch 1/30\n",
      "375/375 [==============================] - 6s - loss: 3.0744 - categorical_accuracy: 0.2232 - val_loss: 2.5420 - val_categorical_accuracy: 0.3259\n",
      "Epoch 2/30\n",
      "375/375 [==============================] - 5s - loss: 2.0645 - categorical_accuracy: 0.4482 - val_loss: 1.9759 - val_categorical_accuracy: 0.4898\n",
      "Epoch 3/30\n",
      "375/375 [==============================] - 5s - loss: 1.7460 - categorical_accuracy: 0.5297 - val_loss: 1.9024 - val_categorical_accuracy: 0.4908\n",
      "Epoch 4/30\n",
      "375/375 [==============================] - 5s - loss: 1.5648 - categorical_accuracy: 0.5757 - val_loss: 1.8918 - val_categorical_accuracy: 0.5059\n",
      "Epoch 5/30\n",
      "375/375 [==============================] - 5s - loss: 1.4262 - categorical_accuracy: 0.6111 - val_loss: 1.7281 - val_categorical_accuracy: 0.5472\n",
      "Epoch 6/30\n",
      "375/375 [==============================] - 5s - loss: 1.3202 - categorical_accuracy: 0.6362 - val_loss: 1.8195 - val_categorical_accuracy: 0.5168\n",
      "Epoch 7/30\n",
      "375/375 [==============================] - 5s - loss: 1.2004 - categorical_accuracy: 0.6661 - val_loss: 1.7102 - val_categorical_accuracy: 0.5544\n",
      "Epoch 8/30\n",
      "375/375 [==============================] - 5s - loss: 1.1239 - categorical_accuracy: 0.6881 - val_loss: 1.6713 - val_categorical_accuracy: 0.5557\n",
      "Epoch 9/30\n",
      "375/375 [==============================] - 5s - loss: 1.0379 - categorical_accuracy: 0.7104 - val_loss: 1.5857 - val_categorical_accuracy: 0.5775\n",
      "Epoch 10/30\n",
      "375/375 [==============================] - 5s - loss: 0.9677 - categorical_accuracy: 0.7318 - val_loss: 1.6616 - val_categorical_accuracy: 0.5716\n",
      "Epoch 11/30\n",
      "375/375 [==============================] - 5s - loss: 0.8833 - categorical_accuracy: 0.7529 - val_loss: 1.5258 - val_categorical_accuracy: 0.6049\n",
      "Epoch 12/30\n",
      "375/375 [==============================] - 5s - loss: 0.8105 - categorical_accuracy: 0.7735 - val_loss: 1.6196 - val_categorical_accuracy: 0.5970\n",
      "Epoch 13/30\n",
      "375/375 [==============================] - 5s - loss: 0.7485 - categorical_accuracy: 0.7867 - val_loss: 1.4863 - val_categorical_accuracy: 0.6220\n",
      "Epoch 14/30\n",
      "375/375 [==============================] - 5s - loss: 0.6958 - categorical_accuracy: 0.8057 - val_loss: 1.5694 - val_categorical_accuracy: 0.5956\n",
      "Epoch 15/30\n",
      "375/375 [==============================] - 5s - loss: 0.6258 - categorical_accuracy: 0.8272 - val_loss: 1.4570 - val_categorical_accuracy: 0.6379\n",
      "Epoch 16/30\n",
      "375/375 [==============================] - 5s - loss: 0.5767 - categorical_accuracy: 0.8382 - val_loss: 1.7558 - val_categorical_accuracy: 0.5521\n",
      "Epoch 17/30\n",
      "375/375 [==============================] - 5s - loss: 0.5331 - categorical_accuracy: 0.8526 - val_loss: 1.4716 - val_categorical_accuracy: 0.6210\n",
      "Epoch 18/30\n",
      "375/375 [==============================] - 5s - loss: 0.4809 - categorical_accuracy: 0.8674 - val_loss: 1.5447 - val_categorical_accuracy: 0.6128\n",
      "Epoch 19/30\n",
      "375/375 [==============================] - 5s - loss: 0.4406 - categorical_accuracy: 0.8823 - val_loss: 1.4565 - val_categorical_accuracy: 0.6412\n",
      "Epoch 20/30\n",
      "375/375 [==============================] - 5s - loss: 0.3943 - categorical_accuracy: 0.8932 - val_loss: 1.6571 - val_categorical_accuracy: 0.6013\n",
      "Epoch 21/30\n",
      "375/375 [==============================] - 5s - loss: 0.3587 - categorical_accuracy: 0.9060 - val_loss: 1.4784 - val_categorical_accuracy: 0.6372\n",
      "Epoch 22/30\n",
      "375/375 [==============================] - 5s - loss: 0.3222 - categorical_accuracy: 0.9160 - val_loss: 1.3950 - val_categorical_accuracy: 0.6553\n",
      "Epoch 23/30\n",
      "375/375 [==============================] - 5s - loss: 0.2946 - categorical_accuracy: 0.9263 - val_loss: 1.4185 - val_categorical_accuracy: 0.6398\n",
      "Epoch 24/30\n",
      "375/375 [==============================] - 5s - loss: 0.2681 - categorical_accuracy: 0.9322 - val_loss: 1.4040 - val_categorical_accuracy: 0.6600\n",
      "Epoch 25/30\n",
      "375/375 [==============================] - 5s - loss: 0.2380 - categorical_accuracy: 0.9440 - val_loss: 1.5438 - val_categorical_accuracy: 0.6448\n",
      "Epoch 26/30\n",
      "375/375 [==============================] - 5s - loss: 0.2148 - categorical_accuracy: 0.9475 - val_loss: 1.4793 - val_categorical_accuracy: 0.6633\n",
      "Epoch 27/30\n",
      "375/375 [==============================] - 5s - loss: 0.1945 - categorical_accuracy: 0.9556 - val_loss: 1.4808 - val_categorical_accuracy: 0.6534\n",
      "Epoch 28/30\n",
      "375/375 [==============================] - 5s - loss: 0.1740 - categorical_accuracy: 0.9614 - val_loss: 1.5203 - val_categorical_accuracy: 0.6408\n",
      "Epoch 29/30\n",
      "375/375 [==============================] - 5s - loss: 0.1560 - categorical_accuracy: 0.9642 - val_loss: 1.6026 - val_categorical_accuracy: 0.6445\n",
      "Epoch 30/30\n",
      "375/375 [==============================] - 5s - loss: 0.1448 - categorical_accuracy: 0.9698 - val_loss: 1.4049 - val_categorical_accuracy: 0.6596\n"
     ]
    }
   ],
   "source": [
    "# Compile the model\n",
    "model.compile(\n",
    "    optimizer=optimizers.RMSprop(lr=1e-4), \n",
    "    loss=losses.categorical_crossentropy, \n",
    "    metrics=[metrics.categorical_accuracy]\n",
    ")\n",
    "\n",
    "history = model.fit_generator(train_generator, \n",
    "                              steps_per_epoch=375, \n",
    "                              epochs=30, \n",
    "                              validation_data=test_generator, \n",
    "                              validation_steps=95)"
   ]
  },
  {
   "cell_type": "code",
   "execution_count": 21,
   "metadata": {},
   "outputs": [
    {
     "data": {
      "image/png": "[encoded data removed]",
      "text/plain": [
       "<matplotlib.figure.Figure at 0x7f9311a91940>"
      ]
     },
     "metadata": {},
     "output_type": "display_data"
    },
    {
     "data": {
      "image/png": "[encoded data removed]",
      "text/plain": [
       "<matplotlib.figure.Figure at 0x7f9313e474e0>"
      ]
     },
     "metadata": {},
     "output_type": "display_data"
    }
   ],
   "source": [
    "import matplotlib.pyplot as plt\n",
    "\n",
    "acc = history.history['categorical_accuracy']\n",
    "val_acc = history.history['val_categorical_accuracy']\n",
    "loss = history.history['loss']\n",
    "val_loss = history.history['val_loss']\n",
    "\n",
    "epochs = range(1, len(acc)+1)\n",
    "\n",
    "plt.plot(epochs, acc, 'bo', label='Training acc')\n",
    "plt.plot(epochs, val_acc, 'b', label='Validation acc')\n",
    "plt.title('Training and validation accuracy')\n",
    "plt.legend()\n",
    "\n",
    "plt.figure()\n",
    "plt.plot(epochs, loss, 'bo', label='Training losses')\n",
    "plt.plot(epochs, val_loss, 'b', label='Validation losses')\n",
    "plt.title('Training and validation loss')\n",
    "plt.legend()\n",
    "\n",
    "plt.show()"
   ]
  },
  {
   "cell_type": "markdown",
   "metadata": {},
   "source": [
    "# Convolutional neural network"
   ]
  },
  {
   "cell_type": "code",
   "execution_count": 22,
   "metadata": {},
   "outputs": [
    {
     "name": "stdout",
     "output_type": "stream",
     "text": [
      "_________________________________________________________________\n",
      "Layer (type)                 Output Shape              Param #   \n",
      "=================================================================\n",
      "conv2d_16 (Conv2D)           (None, 62, 62, 32)        896       \n",
      "_________________________________________________________________\n",
      "max_pooling2d_16 (MaxPooling (None, 31, 31, 32)        0         \n",
      "_________________________________________________________________\n",
      "conv2d_17 (Conv2D)           (None, 29, 29, 64)        18496     \n",
      "_________________________________________________________________\n",
      "max_pooling2d_17 (MaxPooling (None, 14, 14, 64)        0         \n",
      "_________________________________________________________________\n",
      "conv2d_18 (Conv2D)           (None, 12, 12, 128)       73856     \n",
      "_________________________________________________________________\n",
      "max_pooling2d_18 (MaxPooling (None, 6, 6, 128)         0         \n",
      "_________________________________________________________________\n",
      "flatten_9 (Flatten)          (None, 4608)              0         \n",
      "_________________________________________________________________\n",
      "dense_11 (Dense)             (None, 512)               2359808   \n",
      "_________________________________________________________________\n",
      "dense_12 (Dense)             (None, 50)                25650     \n",
      "=================================================================\n",
      "Total params: 2,478,706\n",
      "Trainable params: 2,478,706\n",
      "Non-trainable params: 0\n",
      "_________________________________________________________________\n"
     ]
    }
   ],
   "source": [
    "model = models.Sequential()\n",
    "\n",
    "model.add(layers.Conv2D(32, (3, 3), activation='relu', input_shape=(64, 64, 3)))\n",
    "model.add(layers.MaxPool2D(2, 2))\n",
    "model.add(layers.Conv2D(64, (3, 3), activation='relu'))\n",
    "model.add(layers.MaxPool2D(2, 2))\n",
    "model.add(layers.Conv2D(128, (3, 3), activation='relu'))\n",
    "model.add(layers.MaxPool2D(2, 2))\n",
    "\n",
    "model.add(layers.Flatten())\n",
    "model.add(layers.Dense(512, activation='relu'))\n",
    "model.add(layers.Dense(50, activation='softmax'))\n",
    "\n",
    "model.summary()"
   ]
  },
  {
   "cell_type": "code",
   "execution_count": 23,
   "metadata": {
    "collapsed": true
   },
   "outputs": [],
   "source": [
    "# Compile the model\n",
    "model.compile(\n",
    "    optimizer=optimizers.RMSprop(lr=1e-4), \n",
    "    loss=losses.categorical_crossentropy, \n",
    "    metrics=[metrics.categorical_accuracy]\n",
    ")"
   ]
  },
  {
   "cell_type": "code",
   "execution_count": 24,
   "metadata": {},
   "outputs": [
    {
     "name": "stdout",
     "output_type": "stream",
     "text": [
      "Epoch 1/30\n",
      "375/375 [==============================] - 5s - loss: 2.7814 - categorical_accuracy: 0.2992 - val_loss: 1.8998 - val_categorical_accuracy: 0.5016\n",
      "Epoch 2/30\n",
      "375/375 [==============================] - 4s - loss: 1.3880 - categorical_accuracy: 0.6298 - val_loss: 1.1325 - val_categorical_accuracy: 0.6883\n",
      "Epoch 3/30\n",
      "375/375 [==============================] - 4s - loss: 0.8116 - categorical_accuracy: 0.7746 - val_loss: 0.7786 - val_categorical_accuracy: 0.7823\n",
      "Epoch 4/30\n",
      "375/375 [==============================] - 4s - loss: 0.5396 - categorical_accuracy: 0.8481 - val_loss: 0.6740 - val_categorical_accuracy: 0.8127\n",
      "Epoch 5/30\n",
      "375/375 [==============================] - 4s - loss: 0.3712 - categorical_accuracy: 0.8952 - val_loss: 0.5968 - val_categorical_accuracy: 0.8282\n",
      "Epoch 6/30\n",
      "375/375 [==============================] - 4s - loss: 0.2525 - categorical_accuracy: 0.9290 - val_loss: 0.5363 - val_categorical_accuracy: 0.8555\n",
      "Epoch 7/30\n",
      "375/375 [==============================] - 5s - loss: 0.1781 - categorical_accuracy: 0.9488 - val_loss: 0.5581 - val_categorical_accuracy: 0.8578\n",
      "Epoch 8/30\n",
      "375/375 [==============================] - 4s - loss: 0.1163 - categorical_accuracy: 0.9647 - val_loss: 0.5428 - val_categorical_accuracy: 0.8654\n",
      "Epoch 9/30\n",
      "375/375 [==============================] - 4s - loss: 0.0808 - categorical_accuracy: 0.9772 - val_loss: 0.5536 - val_categorical_accuracy: 0.8681\n",
      "Epoch 10/30\n",
      "375/375 [==============================] - 4s - loss: 0.0540 - categorical_accuracy: 0.9851 - val_loss: 0.5531 - val_categorical_accuracy: 0.8671\n",
      "Epoch 11/30\n",
      "375/375 [==============================] - 4s - loss: 0.0391 - categorical_accuracy: 0.9907 - val_loss: 0.5432 - val_categorical_accuracy: 0.8799\n",
      "Epoch 12/30\n",
      "375/375 [==============================] - 5s - loss: 0.0275 - categorical_accuracy: 0.9929 - val_loss: 0.5750 - val_categorical_accuracy: 0.8813\n",
      "Epoch 13/30\n",
      "375/375 [==============================] - 4s - loss: 0.0190 - categorical_accuracy: 0.9948 - val_loss: 0.6096 - val_categorical_accuracy: 0.8776\n",
      "Epoch 14/30\n",
      "375/375 [==============================] - 5s - loss: 0.0171 - categorical_accuracy: 0.9955 - val_loss: 0.6592 - val_categorical_accuracy: 0.8654\n",
      "Epoch 15/30\n",
      "375/375 [==============================] - 5s - loss: 0.0129 - categorical_accuracy: 0.9966 - val_loss: 0.6328 - val_categorical_accuracy: 0.8839\n",
      "Epoch 16/30\n",
      "375/375 [==============================] - 4s - loss: 0.0110 - categorical_accuracy: 0.9972 - val_loss: 0.6529 - val_categorical_accuracy: 0.8872\n",
      "Epoch 17/30\n",
      "375/375 [==============================] - 4s - loss: 0.0081 - categorical_accuracy: 0.9982 - val_loss: 0.6198 - val_categorical_accuracy: 0.8849\n",
      "Epoch 18/30\n",
      "375/375 [==============================] - 5s - loss: 0.0068 - categorical_accuracy: 0.9988 - val_loss: 0.7013 - val_categorical_accuracy: 0.8842\n",
      "Epoch 19/30\n",
      "375/375 [==============================] - 4s - loss: 0.0053 - categorical_accuracy: 0.9983 - val_loss: 0.6810 - val_categorical_accuracy: 0.8849\n",
      "Epoch 20/30\n",
      "375/375 [==============================] - 4s - loss: 0.0054 - categorical_accuracy: 0.9987 - val_loss: 0.6858 - val_categorical_accuracy: 0.8869\n",
      "Epoch 21/30\n",
      "375/375 [==============================] - 5s - loss: 0.0057 - categorical_accuracy: 0.9988 - val_loss: 0.6148 - val_categorical_accuracy: 0.9011\n",
      "Epoch 22/30\n",
      "375/375 [==============================] - 4s - loss: 0.0037 - categorical_accuracy: 0.9992 - val_loss: 0.7354 - val_categorical_accuracy: 0.8885\n",
      "Epoch 23/30\n",
      "375/375 [==============================] - 5s - loss: 0.0035 - categorical_accuracy: 0.9990 - val_loss: 0.7093 - val_categorical_accuracy: 0.8938\n",
      "Epoch 24/30\n",
      "375/375 [==============================] - 5s - loss: 0.0038 - categorical_accuracy: 0.9990 - val_loss: 0.7386 - val_categorical_accuracy: 0.8885\n",
      "Epoch 25/30\n",
      "375/375 [==============================] - 4s - loss: 0.0031 - categorical_accuracy: 0.9991 - val_loss: 0.7719 - val_categorical_accuracy: 0.8826\n",
      "Epoch 26/30\n",
      "375/375 [==============================] - 4s - loss: 0.0033 - categorical_accuracy: 0.9987 - val_loss: 0.7755 - val_categorical_accuracy: 0.8849\n",
      "Epoch 27/30\n",
      "375/375 [==============================] - 4s - loss: 0.0019 - categorical_accuracy: 0.9993 - val_loss: 0.7723 - val_categorical_accuracy: 0.8902\n",
      "Epoch 28/30\n",
      "375/375 [==============================] - 4s - loss: 0.0017 - categorical_accuracy: 0.9993 - val_loss: 0.8071 - val_categorical_accuracy: 0.8892\n",
      "Epoch 29/30\n",
      "375/375 [==============================] - 5s - loss: 0.0014 - categorical_accuracy: 0.9997 - val_loss: 0.7423 - val_categorical_accuracy: 0.8905\n",
      "Epoch 30/30\n",
      "375/375 [==============================] - 5s - loss: 0.0017 - categorical_accuracy: 0.9995 - val_loss: 0.8262 - val_categorical_accuracy: 0.8747\n"
     ]
    }
   ],
   "source": [
    "history = model.fit_generator(train_generator, \n",
    "                              steps_per_epoch=375, \n",
    "                              epochs=30, \n",
    "                              validation_data=test_generator, \n",
    "                              validation_steps=95)"
   ]
  },
  {
   "cell_type": "code",
   "execution_count": 25,
   "metadata": {},
   "outputs": [
    {
     "data": {
      "image/png": "[encoded data removed]",
      "text/plain": [
       "<matplotlib.figure.Figure at 0x7f92be2af748>"
      ]
     },
     "metadata": {},
     "output_type": "display_data"
    },
    {
     "data": {
      "image/png": "[encoded data removed]",
      "text/plain": [
       "<matplotlib.figure.Figure at 0x7f92be35f7f0>"
      ]
     },
     "metadata": {},
     "output_type": "display_data"
    }
   ],
   "source": [
    "import matplotlib.pyplot as plt\n",
    "\n",
    "acc = history.history['categorical_accuracy']\n",
    "val_acc = history.history['val_categorical_accuracy']\n",
    "loss = history.history['loss']\n",
    "val_loss = history.history['val_loss']\n",
    "\n",
    "epochs = range(1, len(acc)+1)\n",
    "\n",
    "plt.plot(epochs, acc, 'bo', label='Training acc')\n",
    "plt.plot(epochs, val_acc, 'b', label='Validation acc')\n",
    "plt.title('Training and validation accuracy')\n",
    "plt.legend()\n",
    "\n",
    "plt.figure()\n",
    "plt.plot(epochs, loss, 'bo', label='Training losses')\n",
    "plt.plot(epochs, val_loss, 'b', label='Validation losses')\n",
    "plt.title('Training and validation loss')\n",
    "plt.legend()\n",
    "\n",
    "plt.show()"
   ]
  },
  {
   "cell_type": "markdown",
   "metadata": {},
   "source": [
    "# LSTM"
   ]
  },
  {
   "cell_type": "code",
   "execution_count": 31,
   "metadata": {},
   "outputs": [
    {
     "name": "stdout",
     "output_type": "stream",
     "text": [
      "_________________________________________________________________\n",
      "Layer (type)                 Output Shape              Param #   \n",
      "=================================================================\n",
      "reshape_4 (Reshape)          (None, 64, 192)           0         \n",
      "_________________________________________________________________\n",
      "lstm_5 (LSTM)                (None, 500)               1386000   \n",
      "_________________________________________________________________\n",
      "dense_15 (Dense)             (None, 50)                25050     \n",
      "=================================================================\n",
      "Total params: 1,411,050\n",
      "Trainable params: 1,411,050\n",
      "Non-trainable params: 0\n",
      "_________________________________________________________________\n"
     ]
    }
   ],
   "source": [
    "model = models.Sequential()\n",
    "\n",
    "model.add(layers.Reshape((64, 64*3), input_shape=(64, 64, 3)))\n",
    "model.add(layers.LSTM(500, dropout=0.2, recurrent_dropout=0.2))\n",
    "model.add(layers.Dense(50, activation='softmax'))\n",
    "\n",
    "model.summary()"
   ]
  },
  {
   "cell_type": "code",
   "execution_count": 32,
   "metadata": {
    "collapsed": true
   },
   "outputs": [],
   "source": [
    "model.compile(\n",
    "    optimizer=optimizers.RMSprop(lr=1e-4), \n",
    "    loss=losses.categorical_crossentropy, \n",
    "    metrics=[metrics.categorical_accuracy]\n",
    ")"
   ]
  },
  {
   "cell_type": "code",
   "execution_count": 33,
   "metadata": {},
   "outputs": [
    {
     "name": "stdout",
     "output_type": "stream",
     "text": [
      "Epoch 1/30\n",
      "375/375 [==============================] - 22s - loss: 3.6374 - categorical_accuracy: 0.0865 - val_loss: 3.1521 - val_categorical_accuracy: 0.1906\n",
      "Epoch 2/30\n",
      "375/375 [==============================] - 20s - loss: 2.9806 - categorical_accuracy: 0.2116 - val_loss: 2.6648 - val_categorical_accuracy: 0.2853\n",
      "Epoch 3/30\n",
      "375/375 [==============================] - 21s - loss: 2.6412 - categorical_accuracy: 0.2837 - val_loss: 2.2834 - val_categorical_accuracy: 0.3648\n",
      "Epoch 4/30\n",
      "375/375 [==============================] - 20s - loss: 2.4022 - categorical_accuracy: 0.3362 - val_loss: 1.9983 - val_categorical_accuracy: 0.4453\n",
      "Epoch 5/30\n",
      "375/375 [==============================] - 20s - loss: 2.1680 - categorical_accuracy: 0.4026 - val_loss: 1.7948 - val_categorical_accuracy: 0.4894\n",
      "Epoch 6/30\n",
      "375/375 [==============================] - 20s - loss: 1.9771 - categorical_accuracy: 0.4557 - val_loss: 1.6321 - val_categorical_accuracy: 0.5392\n",
      "Epoch 7/30\n",
      "375/375 [==============================] - 20s - loss: 1.8077 - categorical_accuracy: 0.4977 - val_loss: 1.4437 - val_categorical_accuracy: 0.5927\n",
      "Epoch 8/30\n",
      "375/375 [==============================] - 20s - loss: 1.6571 - categorical_accuracy: 0.5317 - val_loss: 1.4046 - val_categorical_accuracy: 0.6013\n",
      "Epoch 9/30\n",
      "375/375 [==============================] - 20s - loss: 1.5355 - categorical_accuracy: 0.5663 - val_loss: 1.2266 - val_categorical_accuracy: 0.6511\n",
      "Epoch 10/30\n",
      "375/375 [==============================] - 20s - loss: 1.4273 - categorical_accuracy: 0.5958 - val_loss: 1.1680 - val_categorical_accuracy: 0.6547\n",
      "Epoch 11/30\n",
      "375/375 [==============================] - 20s - loss: 1.3366 - categorical_accuracy: 0.6125 - val_loss: 1.0740 - val_categorical_accuracy: 0.6778\n",
      "Epoch 12/30\n",
      "375/375 [==============================] - 21s - loss: 1.2381 - categorical_accuracy: 0.6424 - val_loss: 1.0127 - val_categorical_accuracy: 0.7055\n",
      "Epoch 13/30\n",
      "375/375 [==============================] - 21s - loss: 1.1719 - categorical_accuracy: 0.6635 - val_loss: 0.9361 - val_categorical_accuracy: 0.7230\n",
      "Epoch 14/30\n",
      "375/375 [==============================] - 21s - loss: 1.0951 - categorical_accuracy: 0.6776 - val_loss: 0.8801 - val_categorical_accuracy: 0.7348\n",
      "Epoch 15/30\n",
      "375/375 [==============================] - 20s - loss: 1.0160 - categorical_accuracy: 0.7070 - val_loss: 0.8346 - val_categorical_accuracy: 0.7543\n",
      "Epoch 16/30\n",
      "375/375 [==============================] - 21s - loss: 0.9562 - categorical_accuracy: 0.7176 - val_loss: 0.8165 - val_categorical_accuracy: 0.7559\n",
      "Epoch 17/30\n",
      "375/375 [==============================] - 20s - loss: 0.9115 - categorical_accuracy: 0.7322 - val_loss: 0.7413 - val_categorical_accuracy: 0.7747\n",
      "Epoch 18/30\n",
      "375/375 [==============================] - 22s - loss: 0.8581 - categorical_accuracy: 0.7456 - val_loss: 0.7369 - val_categorical_accuracy: 0.7747\n",
      "Epoch 19/30\n",
      "375/375 [==============================] - 21s - loss: 0.8063 - categorical_accuracy: 0.7622 - val_loss: 0.7072 - val_categorical_accuracy: 0.7925\n",
      "Epoch 20/30\n",
      "375/375 [==============================] - 20s - loss: 0.7552 - categorical_accuracy: 0.7789 - val_loss: 0.6488 - val_categorical_accuracy: 0.8031\n",
      "Epoch 21/30\n",
      "375/375 [==============================] - 20s - loss: 0.7333 - categorical_accuracy: 0.7854 - val_loss: 0.6381 - val_categorical_accuracy: 0.8041\n",
      "Epoch 22/30\n",
      "375/375 [==============================] - 21s - loss: 0.6828 - categorical_accuracy: 0.7984 - val_loss: 0.6056 - val_categorical_accuracy: 0.8090\n",
      "Epoch 23/30\n",
      "375/375 [==============================] - 20s - loss: 0.6571 - categorical_accuracy: 0.8057 - val_loss: 0.5818 - val_categorical_accuracy: 0.8232\n",
      "Epoch 24/30\n",
      "375/375 [==============================] - 21s - loss: 0.6087 - categorical_accuracy: 0.8200 - val_loss: 0.5665 - val_categorical_accuracy: 0.8354\n",
      "Epoch 25/30\n",
      "375/375 [==============================] - 20s - loss: 0.5855 - categorical_accuracy: 0.8290 - val_loss: 0.5306 - val_categorical_accuracy: 0.8371\n",
      "Epoch 26/30\n",
      "375/375 [==============================] - 20s - loss: 0.5593 - categorical_accuracy: 0.8317 - val_loss: 0.5285 - val_categorical_accuracy: 0.8417\n",
      "Epoch 27/30\n",
      "375/375 [==============================] - 20s - loss: 0.5263 - categorical_accuracy: 0.8438 - val_loss: 0.5238 - val_categorical_accuracy: 0.8470\n",
      "Epoch 28/30\n",
      "375/375 [==============================] - 20s - loss: 0.5054 - categorical_accuracy: 0.8532 - val_loss: 0.4712 - val_categorical_accuracy: 0.8611\n",
      "Epoch 29/30\n",
      "375/375 [==============================] - 20s - loss: 0.4860 - categorical_accuracy: 0.8542 - val_loss: 0.4567 - val_categorical_accuracy: 0.8608\n",
      "Epoch 30/30\n",
      "375/375 [==============================] - 21s - loss: 0.4566 - categorical_accuracy: 0.8637 - val_loss: 0.4490 - val_categorical_accuracy: 0.8691\n"
     ]
    }
   ],
   "source": [
    "history = model.fit_generator(train_generator, \n",
    "                              steps_per_epoch=375, \n",
    "                              epochs=30, \n",
    "                              validation_data=test_generator, \n",
    "                              validation_steps=95)"
   ]
  },
  {
   "cell_type": "code",
   "execution_count": 34,
   "metadata": {},
   "outputs": [
    {
     "data": {
      "image/png": "[encoded data removed]",
      "text/plain": [
       "<matplotlib.figure.Figure at 0x7f929e9ae748>"
      ]
     },
     "metadata": {},
     "output_type": "display_data"
    },
    {
     "data": {
      "image/png": "[encoded data removed]",
      "text/plain": [
       "<matplotlib.figure.Figure at 0x7f929c79a668>"
      ]
     },
     "metadata": {},
     "output_type": "display_data"
    }
   ],
   "source": [
    "import matplotlib.pyplot as plt\n",
    "\n",
    "acc = history.history['categorical_accuracy']\n",
    "val_acc = history.history['val_categorical_accuracy']\n",
    "loss = history.history['loss']\n",
    "val_loss = history.history['val_loss']\n",
    "\n",
    "epochs = range(1, len(acc)+1)\n",
    "\n",
    "plt.plot(epochs, acc, 'bo', label='Training acc')\n",
    "plt.plot(epochs, val_acc, 'b', label='Validation acc')\n",
    "plt.title('Training and validation accuracy')\n",
    "plt.legend()\n",
    "\n",
    "plt.figure()\n",
    "plt.plot(epochs, loss, 'bo', label='Training losses')\n",
    "plt.plot(epochs, val_loss, 'b', label='Validation losses')\n",
    "plt.title('Training and validation loss')\n",
    "plt.legend()\n",
    "\n",
    "plt.show()"
   ]
  },
  {
   "cell_type": "markdown",
   "metadata": {},
   "source": [
    "# Try using pretrained model (VGG16 on imagenet)\n",
    "using imagenet dataset is not an ideal case. But give it a shot and see how the low level feature deection help"
   ]
  },
  {
   "cell_type": "code",
   "execution_count": 35,
   "metadata": {
    "collapsed": true
   },
   "outputs": [],
   "source": [
    "from keras.applications import VGG16\n",
    "\n",
    "conv_base = VGG16(weights='imagenet',\n",
    "                 include_top=False,\n",
    "                 input_shape=(64, 64, 3))"
   ]
  },
  {
   "cell_type": "code",
   "execution_count": 36,
   "metadata": {},
   "outputs": [
    {
     "name": "stdout",
     "output_type": "stream",
     "text": [
      "_________________________________________________________________\n",
      "Layer (type)                 Output Shape              Param #   \n",
      "=================================================================\n",
      "input_1 (InputLayer)         (None, 64, 64, 3)         0         \n",
      "_________________________________________________________________\n",
      "block1_conv1 (Conv2D)        (None, 64, 64, 64)        1792      \n",
      "_________________________________________________________________\n",
      "block1_conv2 (Conv2D)        (None, 64, 64, 64)        36928     \n",
      "_________________________________________________________________\n",
      "block1_pool (MaxPooling2D)   (None, 32, 32, 64)        0         \n",
      "_________________________________________________________________\n",
      "block2_conv1 (Conv2D)        (None, 32, 32, 128)       73856     \n",
      "_________________________________________________________________\n",
      "block2_conv2 (Conv2D)        (None, 32, 32, 128)       147584    \n",
      "_________________________________________________________________\n",
      "block2_pool (MaxPooling2D)   (None, 16, 16, 128)       0         \n",
      "_________________________________________________________________\n",
      "block3_conv1 (Conv2D)        (None, 16, 16, 256)       295168    \n",
      "_________________________________________________________________\n",
      "block3_conv2 (Conv2D)        (None, 16, 16, 256)       590080    \n",
      "_________________________________________________________________\n",
      "block3_conv3 (Conv2D)        (None, 16, 16, 256)       590080    \n",
      "_________________________________________________________________\n",
      "block3_pool (MaxPooling2D)   (None, 8, 8, 256)         0         \n",
      "_________________________________________________________________\n",
      "block4_conv1 (Conv2D)        (None, 8, 8, 512)         1180160   \n",
      "_________________________________________________________________\n",
      "block4_conv2 (Conv2D)        (None, 8, 8, 512)         2359808   \n",
      "_________________________________________________________________\n",
      "block4_conv3 (Conv2D)        (None, 8, 8, 512)         2359808   \n",
      "_________________________________________________________________\n",
      "block4_pool (MaxPooling2D)   (None, 4, 4, 512)         0         \n",
      "_________________________________________________________________\n",
      "block5_conv1 (Conv2D)        (None, 4, 4, 512)         2359808   \n",
      "_________________________________________________________________\n",
      "block5_conv2 (Conv2D)        (None, 4, 4, 512)         2359808   \n",
      "_________________________________________________________________\n",
      "block5_conv3 (Conv2D)        (None, 4, 4, 512)         2359808   \n",
      "_________________________________________________________________\n",
      "block5_pool (MaxPooling2D)   (None, 2, 2, 512)         0         \n",
      "=================================================================\n",
      "Total params: 14,714,688\n",
      "Trainable params: 14,714,688\n",
      "Non-trainable params: 0\n",
      "_________________________________________________________________\n"
     ]
    }
   ],
   "source": [
    "conv_base.summary()"
   ]
  },
  {
   "cell_type": "code",
   "execution_count": 37,
   "metadata": {},
   "outputs": [
    {
     "name": "stdout",
     "output_type": "stream",
     "text": [
      "Found 12000 images belonging to 50 classes.\n",
      "Found 3000 images belonging to 50 classes.\n"
     ]
    }
   ],
   "source": [
    "train_datagen = ImageDataGenerator(rescale=1./255)\n",
    "test_datagen = ImageDataGenerator(rescale=1./255)\n",
    "\n",
    "train_generator = train_datagen.flow_from_directory(\n",
    "    train_dir, \n",
    "    target_size=(64, 64), \n",
    "    batch_size=32\n",
    ")\n",
    "\n",
    "test_generator = test_datagen.flow_from_directory(\n",
    "    test_dir, \n",
    "    target_size=(64, 64), \n",
    "    batch_size=32\n",
    ")"
   ]
  },
  {
   "cell_type": "code",
   "execution_count": 38,
   "metadata": {},
   "outputs": [
    {
     "name": "stdout",
     "output_type": "stream",
     "text": [
      "_________________________________________________________________\n",
      "Layer (type)                 Output Shape              Param #   \n",
      "=================================================================\n",
      "vgg16 (Model)                (None, 2, 2, 512)         14714688  \n",
      "_________________________________________________________________\n",
      "flatten_11 (Flatten)         (None, 2048)              0         \n",
      "_________________________________________________________________\n",
      "dense_16 (Dense)             (None, 512)               1049088   \n",
      "_________________________________________________________________\n",
      "dense_17 (Dense)             (None, 50)                25650     \n",
      "=================================================================\n",
      "Total params: 15,789,426\n",
      "Trainable params: 15,789,426\n",
      "Non-trainable params: 0\n",
      "_________________________________________________________________\n"
     ]
    }
   ],
   "source": [
    "model = models.Sequential()\n",
    "\n",
    "model.add(conv_base)\n",
    "model.add(layers.Flatten())\n",
    "model.add(layers.Dense(512, activation='relu'))\n",
    "model.add(layers.Dense(50, activation='softmax'))\n",
    "model.summary()"
   ]
  },
  {
   "cell_type": "code",
   "execution_count": 39,
   "metadata": {},
   "outputs": [
    {
     "name": "stdout",
     "output_type": "stream",
     "text": [
      "This is the number of trainable weights before freezing the conv base: 4\n"
     ]
    }
   ],
   "source": [
    "conv_base.trainable = False\n",
    "print('This is the number of trainable weights before freezing the conv base:', len(model.trainable_weights))"
   ]
  },
  {
   "cell_type": "code",
   "execution_count": 40,
   "metadata": {
    "collapsed": true
   },
   "outputs": [],
   "source": [
    "model.compile(\n",
    "    optimizer=optimizers.RMSprop(lr=1e-4), \n",
    "    loss=losses.categorical_crossentropy, \n",
    "    metrics=[metrics.categorical_accuracy]\n",
    ")"
   ]
  },
  {
   "cell_type": "code",
   "execution_count": 41,
   "metadata": {},
   "outputs": [
    {
     "name": "stdout",
     "output_type": "stream",
     "text": [
      "Epoch 1/10\n",
      "375/375 [==============================] - 38s - loss: 1.4313 - categorical_accuracy: 0.6148 - val_loss: 0.3368 - val_categorical_accuracy: 0.8984\n",
      "Epoch 2/10\n",
      "375/375 [==============================] - 36s - loss: 0.2577 - categorical_accuracy: 0.9228 - val_loss: 0.3014 - val_categorical_accuracy: 0.9109\n",
      "Epoch 3/10\n",
      "375/375 [==============================] - 36s - loss: 0.1650 - categorical_accuracy: 0.9558 - val_loss: 0.1709 - val_categorical_accuracy: 0.9439\n",
      "Epoch 4/10\n",
      "375/375 [==============================] - 36s - loss: 0.1120 - categorical_accuracy: 0.9697 - val_loss: 0.1407 - val_categorical_accuracy: 0.9657\n",
      "Epoch 5/10\n",
      "375/375 [==============================] - 36s - loss: 0.0945 - categorical_accuracy: 0.9727 - val_loss: 0.1539 - val_categorical_accuracy: 0.9575\n",
      "Epoch 6/10\n",
      "375/375 [==============================] - 36s - loss: 0.0734 - categorical_accuracy: 0.9798 - val_loss: 0.0685 - val_categorical_accuracy: 0.9835\n",
      "Epoch 7/10\n",
      "375/375 [==============================] - 36s - loss: 0.0616 - categorical_accuracy: 0.9836 - val_loss: 0.2021 - val_categorical_accuracy: 0.9472\n",
      "Epoch 8/10\n",
      "375/375 [==============================] - 36s - loss: 0.0566 - categorical_accuracy: 0.9855 - val_loss: 0.1140 - val_categorical_accuracy: 0.9796\n",
      "Epoch 9/10\n",
      "375/375 [==============================] - 36s - loss: 0.0563 - categorical_accuracy: 0.9855 - val_loss: 0.0991 - val_categorical_accuracy: 0.9786\n",
      "Epoch 10/10\n",
      "375/375 [==============================] - 36s - loss: 0.0524 - categorical_accuracy: 0.9877 - val_loss: 0.1064 - val_categorical_accuracy: 0.9723\n"
     ]
    }
   ],
   "source": [
    "history = model.fit_generator(train_generator, \n",
    "                              steps_per_epoch=375, \n",
    "                              epochs=10, \n",
    "                              validation_data=test_generator, \n",
    "                              validation_steps=95)"
   ]
  },
  {
   "cell_type": "markdown",
   "metadata": {},
   "source": [
    "# Fine-tuning\n",
    "As the pretrained model improves the accuracy. let's try fine tuning it for the last blocks"
   ]
  },
  {
   "cell_type": "code",
   "execution_count": 42,
   "metadata": {
    "collapsed": true
   },
   "outputs": [],
   "source": [
    "conv_base.trainable = True\n",
    "set_trainable = False\n",
    "for layer in conv_base.layers:\n",
    "    if layer.name == 'block5_conv1':\n",
    "        set_trainable = True\n",
    "    if set_trainable:\n",
    "        layer.trainable = True\n",
    "    else:\n",
    "        layer.trainable = False"
   ]
  },
  {
   "cell_type": "code",
   "execution_count": 43,
   "metadata": {},
   "outputs": [
    {
     "name": "stdout",
     "output_type": "stream",
     "text": [
      "Epoch 1/10\n",
      "375/375 [==============================] - 18s - loss: 0.0124 - categorical_accuracy: 0.9965 - val_loss: 0.1210 - val_categorical_accuracy: 0.9799\n",
      "Epoch 2/10\n",
      "375/375 [==============================] - 18s - loss: 0.0072 - categorical_accuracy: 0.9982 - val_loss: 0.1388 - val_categorical_accuracy: 0.9766\n",
      "Epoch 3/10\n",
      "375/375 [==============================] - 18s - loss: 0.0068 - categorical_accuracy: 0.9987 - val_loss: 0.1677 - val_categorical_accuracy: 0.9733\n",
      "Epoch 4/10\n",
      "375/375 [==============================] - 18s - loss: 0.0023 - categorical_accuracy: 0.9992 - val_loss: 0.1629 - val_categorical_accuracy: 0.9802\n",
      "Epoch 5/10\n",
      "375/375 [==============================] - 18s - loss: 0.0067 - categorical_accuracy: 0.9987 - val_loss: 0.1489 - val_categorical_accuracy: 0.9825\n",
      "Epoch 6/10\n",
      "375/375 [==============================] - 18s - loss: 0.0019 - categorical_accuracy: 0.9995 - val_loss: 0.1599 - val_categorical_accuracy: 0.9809\n",
      "Epoch 7/10\n",
      "375/375 [==============================] - 18s - loss: 0.0063 - categorical_accuracy: 0.9988 - val_loss: 0.1580 - val_categorical_accuracy: 0.9815\n",
      "Epoch 8/10\n",
      "375/375 [==============================] - 18s - loss: 0.0039 - categorical_accuracy: 0.9993 - val_loss: 0.1926 - val_categorical_accuracy: 0.9802\n",
      "Epoch 9/10\n",
      "375/375 [==============================] - 18s - loss: 0.0072 - categorical_accuracy: 0.9991 - val_loss: 0.1313 - val_categorical_accuracy: 0.9842\n",
      "Epoch 10/10\n",
      "375/375 [==============================] - 18s - loss: 0.0035 - categorical_accuracy: 0.9997 - val_loss: 0.1457 - val_categorical_accuracy: 0.9832\n"
     ]
    }
   ],
   "source": [
    "model.compile(\n",
    "    optimizer=optimizers.RMSprop(lr=1e-4), \n",
    "    loss=losses.categorical_crossentropy, \n",
    "    metrics=[metrics.categorical_accuracy]\n",
    ")\n",
    "\n",
    "history = model.fit_generator(train_generator, \n",
    "                              steps_per_epoch=375, \n",
    "                              epochs=10, \n",
    "                              validation_data=test_generator, \n",
    "                              validation_steps=95)"
   ]
  },
  {
   "cell_type": "code",
   "execution_count": 44,
   "metadata": {},
   "outputs": [
    {
     "data": {
      "image/png": "[encoded data removed]",
      "text/plain": [
       "<matplotlib.figure.Figure at 0x7f929c559470>"
      ]
     },
     "metadata": {},
     "output_type": "display_data"
    },
    {
     "data": {
      "image/png": "[encoded data removed]",
      "text/plain": [
       "<matplotlib.figure.Figure at 0x7f9320207668>"
      ]
     },
     "metadata": {},
     "output_type": "display_data"
    }
   ],
   "source": [
    "import matplotlib.pyplot as plt\n",
    "\n",
    "acc = history.history['categorical_accuracy']\n",
    "val_acc = history.history['val_categorical_accuracy']\n",
    "loss = history.history['loss']\n",
    "val_loss = history.history['val_loss']\n",
    "\n",
    "epochs = range(1, len(acc)+1)\n",
    "\n",
    "plt.plot(epochs, acc, 'bo', label='Training acc')\n",
    "plt.plot(epochs, val_acc, 'b', label='Validation acc')\n",
    "plt.title('Training and validation accuracy')\n",
    "plt.legend()\n",
    "\n",
    "plt.figure()\n",
    "plt.plot(epochs, loss, 'bo', label='Training losses')\n",
    "plt.plot(epochs, val_loss, 'b', label='Validation losses')\n",
    "plt.title('Training and validation loss')\n",
    "plt.legend()\n",
    "\n",
    "plt.show()"
   ]
  },
  {
   "cell_type": "markdown",
   "metadata": {},
   "source": [
    "# Conclusion"
   ]
  },
  {
   "cell_type": "markdown",
   "metadata": {},
   "source": [
    "With the pretrained vgg26 model validation accuracy upto 98% is achieved"
   ]
  }
 ],
 "metadata": {
  "kernelspec": {
   "display_name": "Python 3",
   "language": "python",
   "name": "python3"
  },
  "language_info": {
   "codemirror_mode": {
    "name": "ipython",
    "version": 3
   },
   "file_extension": ".py",
   "mimetype": "text/x-python",
   "name": "python",
   "nbconvert_exporter": "python",
   "pygments_lexer": "ipython3",
   "version": "3.6.1"
  }
 },
 "nbformat": 4,
 "nbformat_minor": 2
}
