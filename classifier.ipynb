{
 "cells": [
  {
   "cell_type": "code",
   "execution_count": 1,
   "metadata": {},
   "outputs": [
    {
     "name": "stderr",
     "output_type": "stream",
     "text": [
      "Using TensorFlow backend.\n"
     ]
    }
   ],
   "source": [
    "from keras import models, layers, losses, optimizers, metrics\n",
    "from keras.preprocessing.image import ImageDataGenerator"
   ]
  },
  {
   "cell_type": "code",
   "execution_count": 3,
   "metadata": {},
   "outputs": [
    {
     "name": "stdout",
     "output_type": "stream",
     "text": [
      "Found 12000 images belonging to 50 classes.\n",
      "Found 3000 images belonging to 50 classes.\n"
     ]
    }
   ],
   "source": [
    "train_dir = '/media/shuvendu/Projects/Datasets/bangla/train'\n",
    "test_dir = '/media/shuvendu/Projects/Datasets/bangla/test'\n",
    "\n",
    "train_datagen = ImageDataGenerator(rescale=1./255)\n",
    "test_datagen = ImageDataGenerator(rescale=1./255)\n",
    "\n",
    "train_generator = train_datagen.flow_from_directory(\n",
    "    train_dir, \n",
    "    target_size=(64, 64), \n",
    "    batch_size=32\n",
    ")\n",
    "\n",
    "test_generator = test_datagen.flow_from_directory(\n",
    "    test_dir, \n",
    "    target_size=(64, 64), \n",
    "    batch_size=32\n",
    ")"
   ]
  },
  {
   "cell_type": "code",
   "execution_count": 4,
   "metadata": {},
   "outputs": [
    {
     "name": "stdout",
     "output_type": "stream",
     "text": [
      "(32, 64, 64, 3)\n",
      "(32, 50)\n"
     ]
    }
   ],
   "source": [
    "for data_batch, label_batch in train_generator:\n",
    "    print(data_batch.shape)\n",
    "    print(label_batch.shape)\n",
    "    break"
   ]
  },
  {
   "cell_type": "markdown",
   "metadata": {},
   "source": [
    "# Deep neural network"
   ]
  },
  {
   "cell_type": "code",
   "execution_count": 19,
   "metadata": {},
   "outputs": [
    {
     "name": "stdout",
     "output_type": "stream",
     "text": [
      "_________________________________________________________________\n",
      "Layer (type)                 Output Shape              Param #   \n",
      "=================================================================\n",
      "flatten_8 (Flatten)          (None, 12288)             0         \n",
      "_________________________________________________________________\n",
      "dense_9 (Dense)              (None, 1024)              12583936  \n",
      "_________________________________________________________________\n",
      "dense_10 (Dense)             (None, 50)                51250     \n",
      "=================================================================\n",
      "Total params: 12,635,186\n",
      "Trainable params: 12,635,186\n",
      "Non-trainable params: 0\n",
      "_________________________________________________________________\n"
     ]
    }
   ],
   "source": [
    "model = models.Sequential()\n",
    "\n",
    "model.add(layers.Flatten(input_shape=(64, 64, 3)))\n",
    "model.add(layers.Dense(1024, activation='relu'))\n",
    "model.add(layers.Dense(50, activation='softmax'))\n",
    "\n",
    "model.summary()"
   ]
  },
  {
   "cell_type": "code",
   "execution_count": null,
   "metadata": {},
   "outputs": [
    {
     "name": "stdout",
     "output_type": "stream",
     "text": [
      "Epoch 1/30\n",
      "375/375 [==============================] - 6s - loss: 3.0744 - categorical_accuracy: 0.2232 - val_loss: 2.5420 - val_categorical_accuracy: 0.3259\n",
      "Epoch 2/30\n",
      "375/375 [==============================] - 5s - loss: 2.0645 - categorical_accuracy: 0.4482 - val_loss: 1.9759 - val_categorical_accuracy: 0.4898\n",
      "Epoch 3/30\n",
      "375/375 [==============================] - 5s - loss: 1.7460 - categorical_accuracy: 0.5297 - val_loss: 1.9024 - val_categorical_accuracy: 0.4908\n",
      "Epoch 4/30\n",
      "375/375 [==============================] - 5s - loss: 1.5648 - categorical_accuracy: 0.5757 - val_loss: 1.8918 - val_categorical_accuracy: 0.5059\n",
      "Epoch 5/30\n",
      "375/375 [==============================] - 5s - loss: 1.4262 - categorical_accuracy: 0.6111 - val_loss: 1.7281 - val_categorical_accuracy: 0.5472\n",
      "Epoch 6/30\n",
      "  5/375 [..............................] - ETA: 5s - loss: 1.2717 - categorical_accuracy: 0.6750"
     ]
    }
   ],
   "source": [
    "# Compile the model\n",
    "model.compile(\n",
    "    optimizer=optimizers.RMSprop(lr=1e-4), \n",
    "    loss=losses.categorical_crossentropy, \n",
    "    metrics=[metrics.categorical_accuracy]\n",
    ")\n",
    "\n",
    "history = model.fit_generator(train_generator, \n",
    "                              steps_per_epoch=375, \n",
    "                              epochs=30, \n",
    "                              validation_data=test_generator, \n",
    "                              validation_steps=95)"
   ]
  },
  {
   "cell_type": "markdown",
   "metadata": {},
   "source": [
    "# Convolutional neural network"
   ]
  },
  {
   "cell_type": "code",
   "execution_count": 11,
   "metadata": {},
   "outputs": [
    {
     "name": "stdout",
     "output_type": "stream",
     "text": [
      "_________________________________________________________________\n",
      "Layer (type)                 Output Shape              Param #   \n",
      "=================================================================\n",
      "conv2d_13 (Conv2D)           (None, 62, 62, 32)        896       \n",
      "_________________________________________________________________\n",
      "max_pooling2d_13 (MaxPooling (None, 31, 31, 32)        0         \n",
      "_________________________________________________________________\n",
      "conv2d_14 (Conv2D)           (None, 29, 29, 64)        18496     \n",
      "_________________________________________________________________\n",
      "max_pooling2d_14 (MaxPooling (None, 14, 14, 64)        0         \n",
      "_________________________________________________________________\n",
      "conv2d_15 (Conv2D)           (None, 12, 12, 128)       73856     \n",
      "_________________________________________________________________\n",
      "max_pooling2d_15 (MaxPooling (None, 6, 6, 128)         0         \n",
      "_________________________________________________________________\n",
      "flatten_4 (Flatten)          (None, 4608)              0         \n",
      "_________________________________________________________________\n",
      "dense_7 (Dense)              (None, 512)               2359808   \n",
      "_________________________________________________________________\n",
      "dense_8 (Dense)              (None, 50)                25650     \n",
      "=================================================================\n",
      "Total params: 2,478,706\n",
      "Trainable params: 2,478,706\n",
      "Non-trainable params: 0\n",
      "_________________________________________________________________\n"
     ]
    }
   ],
   "source": [
    "model = models.Sequential()\n",
    "\n",
    "model.add(layers.Conv2D(32, (3, 3), activation='relu', input_shape=(64, 64, 3)))\n",
    "model.add(layers.MaxPool2D(2, 2))\n",
    "model.add(layers.Conv2D(64, (3, 3), activation='relu'))\n",
    "model.add(layers.MaxPool2D(2, 2))\n",
    "model.add(layers.Conv2D(128, (3, 3), activation='relu'))\n",
    "model.add(layers.MaxPool2D(2, 2))\n",
    "\n",
    "model.add(layers.Flatten())\n",
    "model.add(layers.Dense(512, activation='relu'))\n",
    "model.add(layers.Dense(50, activation='softmax'))\n",
    "\n",
    "model.summary()"
   ]
  },
  {
   "cell_type": "code",
   "execution_count": 12,
   "metadata": {
    "collapsed": true
   },
   "outputs": [],
   "source": [
    "# Compile the model\n",
    "model.compile(\n",
    "    optimizer=optimizers.RMSprop(lr=1e-4), \n",
    "    loss=losses.categorical_crossentropy, \n",
    "    metrics=[metrics.categorical_accuracy]\n",
    ")"
   ]
  },
  {
   "cell_type": "code",
   "execution_count": 13,
   "metadata": {},
   "outputs": [
    {
     "name": "stdout",
     "output_type": "stream",
     "text": [
      "Epoch 1/30\n",
      "375/375 [==============================] - 22s - loss: 2.8325 - categorical_accuracy: 0.2823 - val_loss: 1.8247 - val_categorical_accuracy: 0.5145\n",
      "Epoch 2/30\n",
      "375/375 [==============================] - 5s - loss: 1.3321 - categorical_accuracy: 0.6377 - val_loss: 1.0710 - val_categorical_accuracy: 0.7042\n",
      "Epoch 3/30\n",
      "375/375 [==============================] - 5s - loss: 0.7897 - categorical_accuracy: 0.7822 - val_loss: 0.7529 - val_categorical_accuracy: 0.7919\n",
      "Epoch 4/30\n",
      "375/375 [==============================] - 4s - loss: 0.5368 - categorical_accuracy: 0.8447 - val_loss: 0.6490 - val_categorical_accuracy: 0.8183\n",
      "Epoch 5/30\n",
      "375/375 [==============================] - 5s - loss: 0.3837 - categorical_accuracy: 0.8898 - val_loss: 0.5530 - val_categorical_accuracy: 0.8506\n",
      "Epoch 6/30\n",
      "375/375 [==============================] - 4s - loss: 0.2743 - categorical_accuracy: 0.9223 - val_loss: 0.5283 - val_categorical_accuracy: 0.8668\n",
      "Epoch 7/30\n",
      "375/375 [==============================] - 5s - loss: 0.1975 - categorical_accuracy: 0.9442 - val_loss: 0.5084 - val_categorical_accuracy: 0.8569\n",
      "Epoch 8/30\n",
      "375/375 [==============================] - 5s - loss: 0.1365 - categorical_accuracy: 0.9621 - val_loss: 0.5091 - val_categorical_accuracy: 0.8654\n",
      "Epoch 9/30\n",
      "375/375 [==============================] - 4s - loss: 0.0949 - categorical_accuracy: 0.9738 - val_loss: 0.5325 - val_categorical_accuracy: 0.8727\n",
      "Epoch 10/30\n",
      "375/375 [==============================] - 4s - loss: 0.0679 - categorical_accuracy: 0.9813 - val_loss: 0.5905 - val_categorical_accuracy: 0.8668\n",
      "Epoch 11/30\n",
      "375/375 [==============================] - 5s - loss: 0.0469 - categorical_accuracy: 0.9881 - val_loss: 0.5974 - val_categorical_accuracy: 0.8668\n",
      "Epoch 12/30\n",
      "375/375 [==============================] - 5s - loss: 0.0354 - categorical_accuracy: 0.9907 - val_loss: 0.4811 - val_categorical_accuracy: 0.8938\n",
      "Epoch 13/30\n",
      "375/375 [==============================] - 5s - loss: 0.0256 - categorical_accuracy: 0.9936 - val_loss: 0.6526 - val_categorical_accuracy: 0.8780\n",
      "Epoch 14/30\n",
      "375/375 [==============================] - 4s - loss: 0.0200 - categorical_accuracy: 0.9952 - val_loss: 0.6349 - val_categorical_accuracy: 0.8829\n",
      "Epoch 15/30\n",
      "375/375 [==============================] - 4s - loss: 0.0174 - categorical_accuracy: 0.9953 - val_loss: 0.6024 - val_categorical_accuracy: 0.8796\n",
      "Epoch 16/30\n",
      "375/375 [==============================] - 4s - loss: 0.0149 - categorical_accuracy: 0.9962 - val_loss: 0.6462 - val_categorical_accuracy: 0.8842\n",
      "Epoch 17/30\n",
      "375/375 [==============================] - 5s - loss: 0.0135 - categorical_accuracy: 0.9968 - val_loss: 0.6879 - val_categorical_accuracy: 0.8823\n",
      "Epoch 18/30\n",
      "375/375 [==============================] - 4s - loss: 0.0103 - categorical_accuracy: 0.9978 - val_loss: 0.6733 - val_categorical_accuracy: 0.8849\n",
      "Epoch 19/30\n",
      "375/375 [==============================] - 4s - loss: 0.0095 - categorical_accuracy: 0.9978 - val_loss: 0.6538 - val_categorical_accuracy: 0.8842\n",
      "Epoch 20/30\n",
      "375/375 [==============================] - 4s - loss: 0.0084 - categorical_accuracy: 0.9977 - val_loss: 0.6484 - val_categorical_accuracy: 0.8799\n",
      "Epoch 21/30\n",
      "375/375 [==============================] - 4s - loss: 0.0056 - categorical_accuracy: 0.9985 - val_loss: 0.7020 - val_categorical_accuracy: 0.8856\n",
      "Epoch 22/30\n",
      "375/375 [==============================] - 4s - loss: 0.0068 - categorical_accuracy: 0.9988 - val_loss: 0.6925 - val_categorical_accuracy: 0.8819\n",
      "Epoch 23/30\n",
      "375/375 [==============================] - 4s - loss: 0.0067 - categorical_accuracy: 0.9985 - val_loss: 0.7447 - val_categorical_accuracy: 0.8826\n",
      "Epoch 24/30\n",
      "375/375 [==============================] - 4s - loss: 0.0041 - categorical_accuracy: 0.9992 - val_loss: 0.7557 - val_categorical_accuracy: 0.8915\n",
      "Epoch 25/30\n",
      "375/375 [==============================] - 4s - loss: 0.0034 - categorical_accuracy: 0.9993 - val_loss: 0.6858 - val_categorical_accuracy: 0.8882\n",
      "Epoch 26/30\n",
      "375/375 [==============================] - 4s - loss: 0.0059 - categorical_accuracy: 0.9987 - val_loss: 0.7506 - val_categorical_accuracy: 0.8823\n",
      "Epoch 27/30\n",
      "375/375 [==============================] - 4s - loss: 0.0033 - categorical_accuracy: 0.9990 - val_loss: 0.7007 - val_categorical_accuracy: 0.8971\n",
      "Epoch 28/30\n",
      "375/375 [==============================] - 4s - loss: 0.0040 - categorical_accuracy: 0.9990 - val_loss: 0.7647 - val_categorical_accuracy: 0.8846\n",
      "Epoch 29/30\n",
      "375/375 [==============================] - 5s - loss: 0.0022 - categorical_accuracy: 0.9996 - val_loss: 0.7673 - val_categorical_accuracy: 0.8875\n",
      "Epoch 30/30\n",
      "375/375 [==============================] - 5s - loss: 0.0026 - categorical_accuracy: 0.9994 - val_loss: 0.7769 - val_categorical_accuracy: 0.8912\n"
     ]
    }
   ],
   "source": [
    "history = model.fit_generator(train_generator, \n",
    "                              steps_per_epoch=375, \n",
    "                              epochs=30, \n",
    "                              validation_data=test_generator, \n",
    "                              validation_steps=95)"
   ]
  },
  {
   "cell_type": "code",
   "execution_count": null,
   "metadata": {
    "collapsed": true
   },
   "outputs": [],
   "source": [
    "import matplotlib.pyplot as plt\n",
    "\n",
    "acc = history.history['categorical_accuracy']\n",
    "val_acc = history.history['val_categorical_accuracy']\n",
    "loss = history.history['loss']\n",
    "val_loss = history.history['val_loss']\n",
    "\n",
    "epochs = range(1, len(acc)+1)\n",
    "\n",
    "plt.plot(epochs, acc, 'bo', label='Training acc')\n",
    "plt.plot(epochs, val_acc, 'b', label='Validation acc')\n",
    "plt.title('Training and validation accuracy')\n",
    "plt.legend()\n",
    "\n",
    "plt.figure()\n",
    "plt.plot(epochs, loss, 'bo', label='Training losses')\n",
    "plt.plot(epochs, val_loss, 'b', label='Validation losses')\n",
    "plt.title('Training and validation loss')\n",
    "plt.legend()\n",
    "\n",
    "plt.show()"
   ]
  },
  {
   "cell_type": "markdown",
   "metadata": {},
   "source": [
    "# Applying image augmentation"
   ]
  },
  {
   "cell_type": "code",
   "execution_count": null,
   "metadata": {},
   "outputs": [],
   "source": [
    "train_datagen = ImageDataGenerator(rescale=1./255, \n",
    "                                   rotation_range=15, \n",
    "                                   width_shift_range=0.05, \n",
    "                                   height_shift_range=0.05, \n",
    "                                   shear_range=0.05,\n",
    "                                   zoom_range=0.1, \n",
    "                                   horizontal_flip=False)\n",
    "\n",
    "test_datagen = ImageDataGenerator(rescale=1./255)\n",
    "\n",
    "train_generator = train_datagen.flow_from_directory(\n",
    "    train_dir, \n",
    "    target_size=(150, 150), \n",
    "    batch_size=32\n",
    ")\n",
    "\n",
    "test_generator = test_datagen.flow_from_directory(\n",
    "    test_dir, \n",
    "    target_size=(150, 150), \n",
    "    batch_size=32\n",
    ")"
   ]
  },
  {
   "cell_type": "code",
   "execution_count": null,
   "metadata": {},
   "outputs": [],
   "source": [
    "model = models.Sequential()\n",
    "\n",
    "model.add(layers.Conv2D(32, (3, 3), activation='relu', input_shape=(150, 150, 3)))\n",
    "model.add(layers.MaxPool2D(2, 2))\n",
    "model.add(layers.Conv2D(64, (3, 3), activation='relu'))\n",
    "model.add(layers.MaxPool2D(2, 2))\n",
    "model.add(layers.Conv2D(128, (3, 3), activation='relu'))\n",
    "model.add(layers.MaxPool2D(2, 2))\n",
    "model.add(layers.Conv2D(128, (3, 3), activation='relu'))\n",
    "model.add(layers.MaxPool2D(2, 2))\n",
    "\n",
    "model.add(layers.Flatten())\n",
    "model.add(layers.Dropout(0.5))\n",
    "model.add(layers.Dense(512, activation='relu'))\n",
    "model.add(layers.Dense(84, activation='softmax'))\n",
    "\n",
    "model.summary()"
   ]
  },
  {
   "cell_type": "code",
   "execution_count": null,
   "metadata": {
    "collapsed": true
   },
   "outputs": [],
   "source": [
    "model.compile(\n",
    "    optimizer=optimizers.RMSprop(lr=1e-4), \n",
    "    loss=losses.categorical_crossentropy, \n",
    "    metrics=[metrics.categorical_accuracy]\n",
    ")"
   ]
  },
  {
   "cell_type": "code",
   "execution_count": null,
   "metadata": {},
   "outputs": [],
   "source": [
    "history = model.fit_generator(train_generator, \n",
    "                              steps_per_epoch=4200, \n",
    "                              epochs=30, \n",
    "                              validation_data=test_generator, \n",
    "                              validation_steps=900)"
   ]
  },
  {
   "cell_type": "code",
   "execution_count": null,
   "metadata": {},
   "outputs": [],
   "source": [
    "import matplotlib.pyplot as plt\n",
    "\n",
    "acc = history.history['categorical_accuracy']\n",
    "val_acc = history.history['val_categorical_accuracy']\n",
    "loss = history.history['loss']\n",
    "val_loss = history.history['val_loss']\n",
    "\n",
    "epochs = range(1, len(acc)+1)\n",
    "\n",
    "plt.plot(epochs, acc, 'bo', label='Training acc')\n",
    "plt.plot(epochs, val_acc, 'b', label='Validation acc')\n",
    "plt.title('Training and validation accuracy')\n",
    "plt.legend()\n",
    "\n",
    "plt.figure()\n",
    "plt.plot(epochs, loss, 'bo', label='Training losses')\n",
    "plt.plot(epochs, val_loss, 'b', label='Validation losses')\n",
    "plt.title('Training and validation loss')\n",
    "plt.legend()\n",
    "\n",
    "plt.show()"
   ]
  },
  {
   "cell_type": "code",
   "execution_count": null,
   "metadata": {
    "collapsed": true
   },
   "outputs": [],
   "source": [
    "model.save('image_augmentation_model.h5')"
   ]
  },
  {
   "cell_type": "markdown",
   "metadata": {},
   "source": [
    "### Observtion"
   ]
  },
  {
   "cell_type": "markdown",
   "metadata": {},
   "source": [
    "Image augmentation gives 1% increase in valdiation accuray giving 89% accuracy. but it has some ridiculous validation_acc > train_acc\n",
    "So, image augmentation is not a good choice. Let's try using pretrained model with no image augmentation. if that doesn't work well then deep cnn with drop out having around 88% accuracy was the best option so far"
   ]
  },
  {
   "cell_type": "markdown",
   "metadata": {},
   "source": [
    "# Try using pretrained model (VGG16 on imagenet)\n",
    "using imagenet dataset is not an ideal case. But give it a shot and see how the low level feature deection help"
   ]
  },
  {
   "cell_type": "code",
   "execution_count": null,
   "metadata": {
    "collapsed": true
   },
   "outputs": [],
   "source": [
    "from keras.applications import VGG16\n",
    "\n",
    "conv_base = VGG16(weights='imagenet',\n",
    "                 include_top=False,\n",
    "                 input_shape=(150, 150, 3))"
   ]
  },
  {
   "cell_type": "code",
   "execution_count": null,
   "metadata": {},
   "outputs": [],
   "source": [
    "conv_base.summary()"
   ]
  },
  {
   "cell_type": "code",
   "execution_count": null,
   "metadata": {},
   "outputs": [],
   "source": [
    "train_datagen = ImageDataGenerator(rescale=1./255)\n",
    "test_datagen = ImageDataGenerator(rescale=1./255)\n",
    "\n",
    "train_generator = train_datagen.flow_from_directory(\n",
    "    train_dir, \n",
    "    target_size=(150, 150), \n",
    "    batch_size=32\n",
    ")\n",
    "\n",
    "test_generator = test_datagen.flow_from_directory(\n",
    "    test_dir, \n",
    "    target_size=(150, 150), \n",
    "    batch_size=32\n",
    ")"
   ]
  },
  {
   "cell_type": "code",
   "execution_count": null,
   "metadata": {},
   "outputs": [],
   "source": [
    "model = models.Sequential()\n",
    "\n",
    "model.add(conv_base)\n",
    "model.add(layers.Flatten())\n",
    "model.add(layers.Dense(512, activation='relu'))\n",
    "model.add(layers.Dense(84, activation='softmax'))\n",
    "model.summary()"
   ]
  },
  {
   "cell_type": "code",
   "execution_count": null,
   "metadata": {},
   "outputs": [],
   "source": [
    "conv_base.trainable = False\n",
    "print('This is the number of trainable weights before freezing the conv base:', len(model.trainable_weights))"
   ]
  },
  {
   "cell_type": "code",
   "execution_count": null,
   "metadata": {
    "collapsed": true
   },
   "outputs": [],
   "source": [
    "model.compile(\n",
    "    optimizer=optimizers.RMSprop(lr=1e-4), \n",
    "    loss=losses.categorical_crossentropy, \n",
    "    metrics=[metrics.categorical_accuracy]\n",
    ")"
   ]
  },
  {
   "cell_type": "code",
   "execution_count": null,
   "metadata": {
    "collapsed": true
   },
   "outputs": [],
   "source": [
    "history = model.fit_generator(train_generator, \n",
    "                              steps_per_epoch=4200, \n",
    "                              epochs=10, \n",
    "                              validation_data=test_generator, \n",
    "                              validation_steps=900)"
   ]
  },
  {
   "cell_type": "code",
   "execution_count": null,
   "metadata": {
    "collapsed": true
   },
   "outputs": [],
   "source": [
    "model.save('dense_layer_on_pretrained_vgg16.h5')"
   ]
  },
  {
   "cell_type": "markdown",
   "metadata": {},
   "source": [
    "# Fine-tuning\n",
    "As the pretrained model improves the accuracy. let's try fine tuning it for the last blocks"
   ]
  },
  {
   "cell_type": "code",
   "execution_count": null,
   "metadata": {
    "collapsed": true
   },
   "outputs": [],
   "source": [
    "conv_base.trainable = True\n",
    "set_trainable = False\n",
    "for layer in conv_base.layers:\n",
    "    if layer.name == 'block5_conv1':\n",
    "        set_trainable = True\n",
    "    if set_trainable:\n",
    "        layer.trainable = True\n",
    "    else:\n",
    "        layer.trainable = False"
   ]
  },
  {
   "cell_type": "code",
   "execution_count": null,
   "metadata": {},
   "outputs": [],
   "source": [
    "model.compile(\n",
    "    optimizer=optimizers.RMSprop(lr=1e-4), \n",
    "    loss=losses.categorical_crossentropy, \n",
    "    metrics=[metrics.categorical_accuracy]\n",
    ")\n",
    "\n",
    "history = model.fit_generator(train_generator, \n",
    "                              steps_per_epoch=4200, \n",
    "                              epochs=10, \n",
    "                              validation_data=test_generator, \n",
    "                              validation_steps=900)"
   ]
  },
  {
   "cell_type": "code",
   "execution_count": null,
   "metadata": {},
   "outputs": [],
   "source": [
    "import matplotlib.pyplot as plt\n",
    "\n",
    "acc = history.history['categorical_accuracy']\n",
    "val_acc = history.history['val_categorical_accuracy']\n",
    "loss = history.history['loss']\n",
    "val_loss = history.history['val_loss']\n",
    "\n",
    "epochs = range(1, len(acc)+1)\n",
    "\n",
    "plt.plot(epochs, acc, 'bo', label='Training acc')\n",
    "plt.plot(epochs, val_acc, 'b', label='Validation acc')\n",
    "plt.title('Training and validation accuracy')\n",
    "plt.legend()\n",
    "\n",
    "plt.figure()\n",
    "plt.plot(epochs, loss, 'bo', label='Training losses')\n",
    "plt.plot(epochs, val_loss, 'b', label='Validation losses')\n",
    "plt.title('Training and validation loss')\n",
    "plt.legend()\n",
    "\n",
    "plt.show()"
   ]
  },
  {
   "cell_type": "code",
   "execution_count": null,
   "metadata": {
    "collapsed": true
   },
   "outputs": [],
   "source": [
    "model.save('finetuning_on_pretrained_vgg16.h5')"
   ]
  },
  {
   "cell_type": "markdown",
   "metadata": {},
   "source": [
    "# Conclusion"
   ]
  },
  {
   "cell_type": "markdown",
   "metadata": {},
   "source": [
    "With the pretrained vgg26 model validation accuracy upto 92% is achieved"
   ]
  },
  {
   "cell_type": "code",
   "execution_count": null,
   "metadata": {
    "collapsed": true
   },
   "outputs": [],
   "source": []
  }
 ],
 "metadata": {
  "kernelspec": {
   "display_name": "Python 3",
   "language": "python",
   "name": "python3"
  },
  "language_info": {
   "codemirror_mode": {
    "name": "ipython",
    "version": 3
   },
   "file_extension": ".py",
   "mimetype": "text/x-python",
   "name": "python",
   "nbconvert_exporter": "python",
   "pygments_lexer": "ipython3",
   "version": "3.6.1"
  }
 },
 "nbformat": 4,
 "nbformat_minor": 2
}
